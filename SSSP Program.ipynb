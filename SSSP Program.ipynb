{
  "nbformat": 4,
  "nbformat_minor": 0,
  "metadata": {
    "colab": {
      "provenance": []
    },
    "kernelspec": {
      "name": "python3",
      "display_name": "Python 3"
    },
    "language_info": {
      "name": "python"
    }
  },
  "cells": [
    {
      "cell_type": "code",
      "execution_count": 15,
      "metadata": {
        "id": "QBmvuhsxXbkw"
      },
      "outputs": [],
      "source": [
        "import numpy as np\n",
        "\n",
        "class Graf:\n",
        "  \"\"\"Ini adalah class graf yang berisikan 2 metode pencarian SSSP yaitu Bellman-Ford dan Djikstra.\n",
        "  Class ini meminta input berupa list yang berisi tuple edge. Tuple edge terdiri dari (out_going, in_going, weight)\n",
        "  contoh (A,B,2) berarti edge dari titik A menuju B dengan weight sebesar 2.\n",
        "\n",
        "  Pada class ini metode untuk menentukan single source shortest path dapat diakses manual dengan BF() dan djikstra() atau menggunakan method\n",
        "  ssp() yang akan otomatis memilih method yang sesuai\"\"\"\n",
        "\n",
        "  def __init__(self, g): # Inisialisasi vertex, edge, dan weights\n",
        "    self.edge = g\n",
        "    self.vertex = list(set([s[0] for s in g]+[s[1] for s in g]))\n",
        "    self.weights = [s[-1] for s in g]\n",
        "\n",
        "  def BF(self, source): # Fungsi Bellman Ford\n",
        "    list_vertex = self.vertex\n",
        "\n",
        "    distance = {} # Insiasi jarak\n",
        "    for v in list_vertex:\n",
        "      if v != source:\n",
        "        distance[v] = np.inf\n",
        "      else:\n",
        "        distance[v] = 0\n",
        "\n",
        "    for i in range(len(list_vertex)-1): # Algoritma Bellman Ford\n",
        "      for u, v, w in self.edge:\n",
        "        if v != source: # Kondisi agar tidak memeriksa edge menuju source\n",
        "          if distance[u] + w < distance[v]:\n",
        "            distance[v] = distance[u] + w\n",
        "\n",
        "    distance_check = distance.copy()\n",
        "\n",
        "    for u, v, w in self.edge: # Checking siklus negatif\n",
        "        if v != source:\n",
        "          if distance_check[u] + w < distance_check[v]:\n",
        "            distance_check[v] = distance_check[u] + w\n",
        "\n",
        "    if distance_check == distance:\n",
        "      return distance\n",
        "    else:\n",
        "      return 'There is negative cycle in the graf'\n",
        "\n",
        "  def dijkstra(self, source): # Fungsi djikstra\n",
        "    list_vertex = self.vertex\n",
        "\n",
        "    distance = {} # Inisiasi jarak\n",
        "    for v in list_vertex:\n",
        "      if v != source:\n",
        "        distance[v] = np.inf\n",
        "      else:\n",
        "        distance[v] = 0\n",
        "\n",
        "    visited = [[source,distance[source]]] # Inisiasi queue\n",
        "    len_list = len(visited)\n",
        "\n",
        "    while len_list > 0: # Algoritma djikstra, selama queue masih terisi akan terus jalan\n",
        "\n",
        "      visited.sort(key=lambda x: x[1]) # Sort list dengan jarak terkecil\n",
        "      i = visited[0][0] # node yang akan ditelusuri\n",
        "\n",
        "      for u, v, w in self.edge:\n",
        "        if u == i:\n",
        "          if distance[u] + w < distance[v]:\n",
        "            distance[v] = distance[u] + w\n",
        "\n",
        "            # Update atau append\n",
        "            found = False\n",
        "            for com in visited:\n",
        "              if com[0] == v:\n",
        "                com[1] = distance[v]\n",
        "                found = True\n",
        "\n",
        "            if not found:\n",
        "              visited.append([v,distance[v]])\n",
        "\n",
        "      visited.pop(0) # hapus yang sudah ditelusuri\n",
        "      len_list = len(visited)\n",
        "\n",
        "    return distance\n",
        "\n",
        "  def ssp(self, source): # Algoritma SSP yang digunakan\n",
        "    count_neg = 0\n",
        "    for w in self.weights:\n",
        "      if w < 0:\n",
        "        count_neg += 1\n",
        "    if count_neg == 0: # Jika tidak terdapat negatif weight gunakan djikstra\n",
        "      print('We use Djikstra')\n",
        "      return self.dijkstra(source)\n",
        "    else:\n",
        "      print('We use Bellman-Ford') # Jika terdapat negatif weight gunakan BF\n",
        "      return self.BF(source)"
      ]
    },
    {
      "cell_type": "code",
      "source": [
        "test_graf1 = Graf([('s', 't', 6),\n",
        "            ('s', 'y', 7),\n",
        "            ('t', 'y', 8),\n",
        "            ('t', 'x', 5),\n",
        "            ('t', 'z', -4),\n",
        "            ('y','z',9),\n",
        "            ('y','x',-3),\n",
        "            ('z','x',7),\n",
        "            ('z','s',2),\n",
        "            ('x','t',-2)])"
      ],
      "metadata": {
        "id": "eoc-sdv8YAE9"
      },
      "execution_count": 16,
      "outputs": []
    },
    {
      "cell_type": "code",
      "source": [
        "test_graf1.ssp('s')"
      ],
      "metadata": {
        "colab": {
          "base_uri": "https://localhost:8080/"
        },
        "id": "idaOJh5vohUh",
        "outputId": "696dc466-a3c1-4d66-e020-63bd156894e5"
      },
      "execution_count": 17,
      "outputs": [
        {
          "output_type": "stream",
          "name": "stdout",
          "text": [
            "We use Bellman-Ford\n"
          ]
        },
        {
          "output_type": "execute_result",
          "data": {
            "text/plain": [
              "{'s': 0, 'y': 7, 'x': 4, 'z': -2, 't': 2}"
            ]
          },
          "metadata": {},
          "execution_count": 17
        }
      ]
    },
    {
      "cell_type": "code",
      "source": [
        "test_graf2 = Graf([('A', 'B', 10),\n",
        "            ('A', 'F', 7),\n",
        "            ('F', 'E', 5),\n",
        "            ('F', 'G', 4),\n",
        "            ('B', 'C', 7),\n",
        "            ('B','D',5),\n",
        "            ('D','A',3),\n",
        "            ('G','E',2),\n",
        "            ('E','C',6),\n",
        "            ('C','H',4),\n",
        "            ('H','E',3),\n",
        "            ('H','G',5)])"
      ],
      "metadata": {
        "id": "XVIIDPD-sM2c"
      },
      "execution_count": 18,
      "outputs": []
    },
    {
      "cell_type": "code",
      "source": [
        "test_graf2.ssp('A')"
      ],
      "metadata": {
        "colab": {
          "base_uri": "https://localhost:8080/"
        },
        "id": "8X7_NdYx0I7D",
        "outputId": "cc851337-da00-492d-8007-98b35365fa46"
      },
      "execution_count": 19,
      "outputs": [
        {
          "output_type": "stream",
          "name": "stdout",
          "text": [
            "We use Djikstra\n"
          ]
        },
        {
          "output_type": "execute_result",
          "data": {
            "text/plain": [
              "{'C': 17, 'A': 0, 'F': 7, 'B': 10, 'D': 15, 'G': 11, 'H': 21, 'E': 12}"
            ]
          },
          "metadata": {},
          "execution_count": 19
        }
      ]
    },
    {
      "cell_type": "code",
      "source": [],
      "metadata": {
        "id": "TxIynfDl0L-K"
      },
      "execution_count": null,
      "outputs": []
    }
  ]
}