{
  "nbformat": 4,
  "nbformat_minor": 0,
  "metadata": {
    "colab": {
      "provenance": []
    },
    "kernelspec": {
      "name": "python3",
      "display_name": "Python 3"
    },
    "language_info": {
      "name": "python"
    }
  },
  "cells": [
    {
      "cell_type": "code",
      "source": [
        "# Program untuk menghitung jumlah uang dengan input berupa uang awal, jumlah dibungakan setahun, dan jumlah tahun\n",
        "# kondisional % bunga dimasukan dalam fungsi\n",
        "def deposito(p,n,t):\n",
        "  if p < 1e8:\n",
        "    r = 4\n",
        "  elif 1e8 <= p <= 500:\n",
        "    r = 4.5\n",
        "  else:\n",
        "    r = 5\n",
        "  return p*((1+(r/(100*n)))**(n*t))\n",
        "\n",
        "\n",
        "p0 = 1e8\n",
        "year = 15\n",
        "n = 12\n",
        "for i in range(1,year+1):\n",
        "  print(f'Jumlah uang setelah {i} tahun adalah Rp',deposito(p0,n,i))"
      ],
      "metadata": {
        "colab": {
          "base_uri": "https://localhost:8080/"
        },
        "id": "ini23ICh40sq",
        "outputId": "ee0683d5-f637-4240-ea8c-fd589e40e0cb"
      },
      "execution_count": 2,
      "outputs": [
        {
          "output_type": "stream",
          "name": "stdout",
          "text": [
            "Jumlah uang setelah 1 tahun adalah Rp 105116189.7881733\n",
            "Jumlah uang setelah 2 tahun adalah Rp 110494133.55583268\n",
            "Jumlah uang setelah 3 tahun adalah Rp 116147223.13334678\n",
            "Jumlah uang setelah 4 tahun adalah Rp 122089535.50254191\n",
            "Jumlah uang setelah 5 tahun adalah Rp 128335867.85035118\n",
            "Jumlah uang setelah 6 tahun adalah Rp 134901774.41587442\n",
            "Jumlah uang setelah 7 tahun adalah Rp 141803605.22260398\n",
            "Jumlah uang setelah 8 tahun adalah Rp 149058546.79226443\n",
            "Jumlah uang setelah 9 tahun adalah Rp 156684664.94164976\n",
            "Jumlah uang setelah 10 tahun adalah Rp 164700949.769028\n",
            "Jumlah uang setelah 11 tahun adalah Rp 173127362.94213545\n",
            "Jumlah uang setelah 12 tahun adalah Rp 181984887.40551472\n",
            "Jumlah uang setelah 13 tahun adalah Rp 191295579.63097435\n",
            "Jumlah uang setelah 14 tahun adalah Rp 201082624.54128116\n",
            "Jumlah uang setelah 15 tahun adalah Rp 211370393.24385306\n"
          ]
        }
      ]
    },
    {
      "cell_type": "code",
      "source": [],
      "metadata": {
        "id": "ITDYl6sP6Wl4"
      },
      "execution_count": null,
      "outputs": []
    }
  ]
}