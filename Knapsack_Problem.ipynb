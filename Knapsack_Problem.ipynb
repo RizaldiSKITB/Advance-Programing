{
  "nbformat": 4,
  "nbformat_minor": 0,
  "metadata": {
    "colab": {
      "provenance": []
    },
    "kernelspec": {
      "name": "python3",
      "display_name": "Python 3"
    },
    "language_info": {
      "name": "python"
    }
  },
  "cells": [
    {
      "cell_type": "code",
      "execution_count": 1,
      "metadata": {
        "id": "wDuagwjW7FoW"
      },
      "outputs": [],
      "source": [
        "class item: # Class to create item object\n",
        "  def __init__(self, name, value, weight):\n",
        "    self.name = name\n",
        "    self.value = value\n",
        "    self.weight = weight\n",
        "\n",
        "  def get_name(self):\n",
        "    return self.name\n",
        "\n",
        "  def get_value(self):\n",
        "    return self.value\n",
        "\n",
        "  def get_weight(self):\n",
        "    return self.weight\n",
        "\n",
        "def get_item(list_name, list_value, list_weight):\n",
        "\n",
        "  if len(list_name) == len(list_value) and len(list_name) == len(list_weight):\n",
        "    items = []\n",
        "    for i in range(len(list_name)):\n",
        "      items.append(item(list_name[i], list_value[i], list_weight[i]))\n",
        "    return items\n",
        "  else:\n",
        "    return print('Error, list not same length')\n",
        "\n",
        "def brute_force(list_name, list_value, list_weight,max_weight=26): # Brute force method\n",
        "  from itertools import combinations\n",
        "\n",
        "  items = get_item(list_name, list_value, list_weight)\n",
        "  all_combinations = []\n",
        "  for i in range(1,len(items)+1):\n",
        "    all_combinations.extend(combinations(items,i))\n",
        "\n",
        "  max_value = 0\n",
        "  opt_weight = 0\n",
        "  for i in range(len(all_combinations)):\n",
        "    total_weight = sum([item.get_weight() for item in all_combinations[i]])\n",
        "    total_value = sum([item.get_value() for item in all_combinations[i]])\n",
        "    if total_weight <= max_weight and total_value > max_value: # check constrain and choose best combination\n",
        "      opt_weight = total_weight\n",
        "      max_value = total_value\n",
        "      max_combination = all_combinations[i]\n",
        "\n",
        "  return max_value, max_combination, opt_weight\n",
        "\n",
        "def test_brute_force(list_name, list_value, list_weight,max_weight=26):\n",
        "  max_value, max_combination, total_weight = brute_force(list_name, list_value, list_weight,max_weight)\n",
        "  print('Max value: ', max_value)\n",
        "  print('Total Weight: ', total_weight)\n",
        "  print('List items:')\n",
        "  for i in max_combination:\n",
        "    print(i.get_name())\n",
        "\n",
        "def greedy(items, max_weight, key_function): # greedy method\n",
        "  items_copy = sorted(items, key=key_function, reverse=True)\n",
        "  result = []\n",
        "  total_value, total_weight = 0, 0\n",
        "  for i in range(len(items_copy)):\n",
        "    if (total_weight + items_copy[i].get_weight()) <= max_weight:\n",
        "      result.append(items_copy[i])\n",
        "      total_weight += items_copy[i].get_weight()\n",
        "      total_value += items_copy[i].get_value()\n",
        "  return (result, total_value)\n",
        "\n",
        "def value(item):\n",
        "  return item.get_value()\n",
        "\n",
        "def weight(item):\n",
        "  return 1/item.get_weight()\n",
        "\n",
        "def ratio(item):\n",
        "  return item.get_value()/item.get_weight()\n",
        "\n",
        "\n",
        "def test_greedy(items, max_weight, key_function):\n",
        "  taken, val = greedy(items, max_weight, key_function)\n",
        "  print('Total value taken = ', val)\n",
        "  for item in taken:\n",
        "    print(' ', item.get_name())\n",
        "\n",
        "def test_greedys(list_barang,list_value,list_weight,function, max_weight=20):\n",
        "  items = get_item(list_barang,list_value,list_weight)\n",
        "  test_greedy(items, max_weight, function)"
      ]
    },
    {
      "cell_type": "code",
      "source": [
        "test_brute_force(['Vase','Book','Painting','Computer','Radio','Clock','Television'],[50,20,72,180,20,110,144],[2,1,8,18,4,10,12],max_weight=30)"
      ],
      "metadata": {
        "colab": {
          "base_uri": "https://localhost:8080/"
        },
        "id": "GNfU_xku7isG",
        "outputId": "8adee2c0-07fc-465d-b9c5-6ffd6a5aedfa"
      },
      "execution_count": 2,
      "outputs": [
        {
          "output_type": "stream",
          "name": "stdout",
          "text": [
            "Max value:  344\n",
            "Total Weight:  29\n",
            "List items:\n",
            "Vase\n",
            "Book\n",
            "Radio\n",
            "Clock\n",
            "Television\n"
          ]
        }
      ]
    },
    {
      "cell_type": "code",
      "source": [
        "test_greedys(['Vase','Book','Painting','Computer','Radio','Clock','Television'],[50,20,72,180,20,110,144],[2,1,8,18,4,10,12],ratio,max_weight=30)"
      ],
      "metadata": {
        "colab": {
          "base_uri": "https://localhost:8080/"
        },
        "id": "6Ea11t_Y7jlN",
        "outputId": "ff002e7c-23e6-4d18-bd10-573d6b79c815"
      },
      "execution_count": 5,
      "outputs": [
        {
          "output_type": "stream",
          "name": "stdout",
          "text": [
            "Total value taken =  344\n",
            "  Vase\n",
            "  Book\n",
            "  Television\n",
            "  Clock\n",
            "  Radio\n"
          ]
        }
      ]
    },
    {
      "cell_type": "code",
      "source": [],
      "metadata": {
        "id": "LscxX9Jc7s7K"
      },
      "execution_count": null,
      "outputs": []
    }
  ]
}