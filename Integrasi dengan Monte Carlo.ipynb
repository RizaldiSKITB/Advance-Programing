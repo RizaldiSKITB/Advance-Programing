{
  "nbformat": 4,
  "nbformat_minor": 0,
  "metadata": {
    "colab": {
      "provenance": []
    },
    "kernelspec": {
      "name": "python3",
      "display_name": "Python 3"
    },
    "language_info": {
      "name": "python"
    }
  },
  "cells": [
    {
      "cell_type": "code",
      "execution_count": 2,
      "metadata": {
        "id": "B4s4rSFL0qli"
      },
      "outputs": [],
      "source": [
        "import numpy as np\n",
        "\n",
        "def myfunc(x): # Fungsi yang akan dievaluasi\n",
        "  return (np.cos(x)*(x**2))  + np.exp(-x)\n",
        "\n",
        "# Pada program ini saya menggunakan class untuk membuat model monte carlo\n",
        "# terdapat 2 methods pada class ini yaitu method auc(area under curve) dan method integrasi\n",
        "class MonteCarlo:\n",
        "  def __init__(self, f, a, b, n=100000): # nilai tiap parameter dengan default n=100k\n",
        "    self.f = f\n",
        "    self.a = a\n",
        "    self.b = b\n",
        "    self.n = n\n",
        "\n",
        "  def integrate(self):\n",
        "    x = np.random.uniform(self.a, self.b, self.n)\n",
        "    y = self.f(x)\n",
        "    return (self.b-self.a)*sum(y)/self.n\n",
        "\n",
        "  def auc(self):\n",
        "    ymin = min(0,min(self.f(np.linspace(self.a,self.b,self.n))))\n",
        "    ymax = max(0,max(self.f(np.linspace(self.a,self.b,self.n))))\n",
        "    x = np.random.uniform(self.a,self.b,self.n)\n",
        "    y = np.random.uniform(ymin,ymax,self.n)\n",
        "    hit = np.zeros(self.n)\n",
        "    for i in range(self.n):\n",
        "      if  y[i]>= 0 and y[i] <= self.f(x[i]):\n",
        "        hit[i] = 1\n",
        "      elif y[i]< 0 and y[i] >= self.f(x[i]):\n",
        "        hit[i] = 1\n",
        "    return sum(hit)*(ymax-ymin)*(self.b-self.a)/self.n"
      ]
    },
    {
      "cell_type": "code",
      "source": [
        "mc = MonteCarlo(myfunc, 0, 2, 1000000)\n",
        "\n",
        "print('Area Under Curve: ',mc.auc())\n",
        "print('Integration Monte Carlo: ',mc.integrate())"
      ],
      "metadata": {
        "colab": {
          "base_uri": "https://localhost:8080/"
        },
        "id": "Q6Z0pWjo1Dok",
        "outputId": "0267ac27-0a15-4f2f-8045-bdea5a6400ca"
      },
      "execution_count": 5,
      "outputs": [
        {
          "output_type": "stream",
          "name": "stdout",
          "text": [
            "Area Under Curve:  1.5158161708559892\n",
            "Integration Monte Carlo:  1.0199722417075037\n"
          ]
        }
      ]
    },
    {
      "cell_type": "code",
      "source": [],
      "metadata": {
        "id": "0-z6N-8I1Lma"
      },
      "execution_count": null,
      "outputs": []
    }
  ]
}